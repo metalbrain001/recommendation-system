{
 "cells": [
  {
   "cell_type": "code",
   "execution_count": 5,
   "metadata": {},
   "outputs": [
    {
     "name": "stdout",
     "output_type": "stream",
     "text": [
      "Data loaded successfully!\n",
      "Data types of the ratings dataframe:\n",
      "Unnamed: 0      int64\n",
      "user_id         int32\n",
      "movie_id        int64\n",
      "rating        float32\n",
      "dtype: object\n"
     ]
    }
   ],
   "source": [
    "# In Notebooks/main.ipynb\n",
    "import sys\n",
    "import os\n",
    "import numpy as np\n",
    "sys.path.append(os.path.join(os.getcwd(), '..'))\n",
    "from load_data import MovieLensDataLoader\n",
    "\n",
    "MOVIELENS_DIR = \"/Users/timeless/Downloads/data/\"\n",
    "\n",
    "loader = MovieLensDataLoader(data_path=MOVIELENS_DIR)\n",
    "\n",
    "# Load the data\n",
    "movies, ratings, tags, links = loader.load_data()\n",
    "ratings['rating'] = ratings['rating'].values.astype(np.float32)\n",
    "ratings['user_id'] = ratings['user_id'].values.astype(np.int32)\n",
    "print(\"Data types of the ratings dataframe:\")\n",
    "print(ratings.dtypes)"
   ]
  },
  {
   "cell_type": "code",
   "execution_count": 8,
   "metadata": {},
   "outputs": [
    {
     "data": {
      "text/html": [
       "<div>\n",
       "<style scoped>\n",
       "    .dataframe tbody tr th:only-of-type {\n",
       "        vertical-align: middle;\n",
       "    }\n",
       "\n",
       "    .dataframe tbody tr th {\n",
       "        vertical-align: top;\n",
       "    }\n",
       "\n",
       "    .dataframe thead th {\n",
       "        text-align: right;\n",
       "    }\n",
       "</style>\n",
       "<table border=\"1\" class=\"dataframe\">\n",
       "  <thead>\n",
       "    <tr style=\"text-align: right;\">\n",
       "      <th></th>\n",
       "      <th>Unnamed: 0</th>\n",
       "      <th>movie_id</th>\n",
       "      <th>imdb_id</th>\n",
       "      <th>tmdb_id</th>\n",
       "    </tr>\n",
       "  </thead>\n",
       "  <tbody>\n",
       "    <tr>\n",
       "      <th>0</th>\n",
       "      <td>0</td>\n",
       "      <td>1</td>\n",
       "      <td>114709</td>\n",
       "      <td>862.0</td>\n",
       "    </tr>\n",
       "    <tr>\n",
       "      <th>1</th>\n",
       "      <td>1</td>\n",
       "      <td>2</td>\n",
       "      <td>113497</td>\n",
       "      <td>8844.0</td>\n",
       "    </tr>\n",
       "    <tr>\n",
       "      <th>2</th>\n",
       "      <td>2</td>\n",
       "      <td>3</td>\n",
       "      <td>113228</td>\n",
       "      <td>15602.0</td>\n",
       "    </tr>\n",
       "    <tr>\n",
       "      <th>3</th>\n",
       "      <td>3</td>\n",
       "      <td>4</td>\n",
       "      <td>114885</td>\n",
       "      <td>31357.0</td>\n",
       "    </tr>\n",
       "    <tr>\n",
       "      <th>4</th>\n",
       "      <td>4</td>\n",
       "      <td>5</td>\n",
       "      <td>113041</td>\n",
       "      <td>11862.0</td>\n",
       "    </tr>\n",
       "  </tbody>\n",
       "</table>\n",
       "</div>"
      ],
      "text/plain": [
       "   Unnamed: 0  movie_id  imdb_id  tmdb_id\n",
       "0           0         1   114709    862.0\n",
       "1           1         2   113497   8844.0\n",
       "2           2         3   113228  15602.0\n",
       "3           3         4   114885  31357.0\n",
       "4           4         5   113041  11862.0"
      ]
     },
     "execution_count": 8,
     "metadata": {},
     "output_type": "execute_result"
    }
   ],
   "source": []
  },
  {
   "cell_type": "code",
   "execution_count": null,
   "metadata": {},
   "outputs": [],
   "source": [
    "# Plot a bar chart of the ratings\n",
    "import matplotlib.pyplot as plt\n",
    "plt.style.use(\"dark_background\")\n",
    "ratings['rating'].value_counts().sort_index(ascending=False).plot(kind='barh')\n",
    "plt.title('Distribution of Ratings')\n",
    "plt.xlabel('Number of Ratings')\n",
    "plt.ylabel('Rating')\n",
    "plt.show()"
   ]
  },
  {
   "cell_type": "code",
   "execution_count": null,
   "metadata": {},
   "outputs": [],
   "source": [
    "# Plot only top 20 most rated movies\n",
    "top_movies = ratings[\"movie_id\"].value_counts().head(20).index\n",
    "filtered_movies = movies[movies[\"movie_id\"].isin(top_movies)]\n",
    "plt.barh(filtered_movies[\"title\"], filtered_movies[\"movie_id\"], color=\"coral\")"
   ]
  },
  {
   "cell_type": "code",
   "execution_count": null,
   "metadata": {},
   "outputs": [],
   "source": [
    "# Plot the number of ratings per movie\n",
    "plt.figure()\n",
    "ratings_per_movie = ratings[\"movie_id\"].value_counts()\n",
    "plt.hist(ratings_per_movie, bins=30, color=\"coral\")\n",
    "plt.xlabel(\"Number of Ratings\")\n",
    "plt.ylabel(\"Number of Movies\")\n",
    "plt.title(\"Number of Ratings per Movie\")\n",
    "plt.show()"
   ]
  },
  {
   "cell_type": "code",
   "execution_count": null,
   "metadata": {},
   "outputs": [],
   "source": [
    "# Plot the number of ratings per user\n",
    "plt.figure()\n",
    "ratings_per_user = ratings[\"user_id\"].value_counts()\n",
    "plt.hist(ratings_per_user, bins=30, color=\"coral\")\n",
    "plt.xlabel(\"Number of Ratings\")\n",
    "plt.ylabel(\"Number of Users\")\n",
    "plt.title(\"Number of Ratings per User\")\n",
    "plt.show()"
   ]
  },
  {
   "cell_type": "code",
   "execution_count": null,
   "metadata": {},
   "outputs": [],
   "source": [
    "import random\n",
    "import pandas as pd\n",
    "import matplotlib.pyplot as plt\n",
    "from sklearn.metrics.pairwise import cosine_similarity\n",
    "from scipy.sparse import csr_matrix\n",
    "from sklearn.preprocessing import LabelEncoder\n",
    "\n",
    "# Encode user and movie IDs\n",
    "user_encoder = LabelEncoder()\n",
    "movie_encoder = LabelEncoder()\n",
    "ratings[\"user_id\"] = user_encoder.fit_transform(ratings[\"user_id\"])\n",
    "ratings[\"movie_id\"] = movie_encoder.fit_transform(ratings[\"movie_id\"])\n",
    "\n",
    "# Create a user-movie sparse matrix\n",
    "user_movie_matrix = csr_matrix(\n",
    "    (ratings[\"rating\"], (ratings[\"user_id\"], ratings[\"movie_id\"]))\n",
    ")\n",
    "\n",
    "# Calculate cosine similarities for a limited set of movies\n",
    "n_movies = 100  # You can adjust the number to improve performance\n",
    "user_movie_matrix_subset = user_movie_matrix[\n",
    "    :, :n_movies\n",
    "]  # Taking only a subset of movies\n",
    "similarities = cosine_similarity(user_movie_matrix_subset.T, dense_output=False)\n",
    "\n",
    "# Pre-store titles for faster lookup\n",
    "movie_titles = movies.set_index(\"movie_id\")[\"title\"].to_dict()\n",
    "\n",
    "\n",
    "# Function to get top N similar movies\n",
    "def get_similar_movies(movie_id, n=10):\n",
    "    similar_indices = (\n",
    "        similarities[movie_id].toarray().ravel().argsort()[::-1][1 : n + 1]\n",
    "    )\n",
    "    return [\n",
    "        (movie_encoder.inverse_transform([i])[0], similarities[movie_id, i])\n",
    "        for i in similar_indices\n",
    "    ]\n",
    "\n",
    "\n",
    "# Choose a random movie from the subset and plot\n",
    "random_movie_id = random.choice(range(n_movies))\n",
    "movie_title = movie_titles.get(random_movie_id, \"Unknown Title\")\n",
    "similar = get_similar_movies(random_movie_id)\n",
    "similar_titles = [\n",
    "    movie_titles.get(movie_id, \"Unknown Title\") for movie_id, _ in similar\n",
    "]\n",
    "similar_scores = [score for _, score in similar]\n",
    "\n",
    "plt.barh(similar_titles, similar_scores, color=\"coral\")\n",
    "plt.xlabel(\"Similarity\")\n",
    "plt.ylabel(\"Movie Title\")\n",
    "plt.title(f\"Similar Movies to {movie_title}\")\n",
    "plt.show()"
   ]
  }
 ],
 "metadata": {
  "kernelspec": {
   "display_name": "venv",
   "language": "python",
   "name": "python3"
  },
  "language_info": {
   "codemirror_mode": {
    "name": "ipython",
    "version": 3
   },
   "file_extension": ".py",
   "mimetype": "text/x-python",
   "name": "python",
   "nbconvert_exporter": "python",
   "pygments_lexer": "ipython3",
   "version": "3.11.10"
  }
 },
 "nbformat": 4,
 "nbformat_minor": 2
}
