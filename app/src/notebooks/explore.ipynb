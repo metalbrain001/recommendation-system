{
 "cells": [
  {
   "cell_type": "code",
   "execution_count": 2,
   "metadata": {},
   "outputs": [],
   "source": [
    "from sqlalchemy import create_engine\n",
    "import pandas as pd\n",
    "import matplotlib.pyplot as plt\n",
    "\n",
    "\n",
    "class DatabaseConnection:\n",
    "    def __init__(self, dbname, user, host, password, port):\n",
    "        self.dbname = dbname\n",
    "        self.user = user\n",
    "        self.host = host\n",
    "        self.password = password\n",
    "        self.port = port\n",
    "        self.engine = None\n",
    "\n",
    "    def connect(self):\n",
    "        # Create the connection URL for SQLAlchemy\n",
    "        url = f\"postgresql://{self.user}:{self.password}@{self.host}:{self.port}/{self.dbname}\"\n",
    "        self.engine = create_engine(url)\n",
    "        return self.engine\n",
    "\n",
    "    def query_to_dataframe(self, query):\n",
    "        # Ensure connection is established\n",
    "        if self.engine is None:\n",
    "            self.connect()\n",
    "\n",
    "        # Execute the query and return results as a DataFrame\n",
    "        return pd.read_sql(query, self.engine)"
   ]
  },
  {
   "cell_type": "code",
   "execution_count": 3,
   "metadata": {},
   "outputs": [],
   "source": [
    "if __name__ == \"__main__\":\n",
    "    # Initialize connection\n",
    "    db_conn = DatabaseConnection(\n",
    "        dbname=\"devdb\",\n",
    "        user=\"timeless\",\n",
    "        host=\"localhost\",\n",
    "        password=\"password\",\n",
    "        port=\"5432\",\n",
    "    )\n",
    "\n",
    "    # Connect to the database\n",
    "    engine = db_conn.connect()\n",
    "\n",
    "# Load Movies Data\n",
    "query = \"SELECT movie_id, title, genres FROM core_movie;\"\n",
    "movies_df = db_conn.query_to_dataframe(query)\n",
    "\n",
    "# Load Ratings Data\n",
    "query = \"SELECT user_id, movie_id, rating FROM core_ratings;\"\n",
    "ratings_df = db_conn.query_to_dataframe(query)\n",
    "\n",
    "# Load Tags Data\n",
    "query = \"SELECT user_id, movie_id, tag FROM core_tags;\"\n",
    "tags_df = db_conn.query_to_dataframe(query)\n",
    "\n",
    "# Load Links Data\n",
    "query = \"SELECT movie_id, imdb_id, tmdb_id FROM core_links;\"\n",
    "links_df = db_conn.query_to_dataframe(query)"
   ]
  },
  {
   "cell_type": "code",
   "execution_count": null,
   "metadata": {},
   "outputs": [],
   "source": [
    "movies_df.to_csv(\"movies.csv\")\n",
    "print(movies_df.head(5))"
   ]
  },
  {
   "cell_type": "code",
   "execution_count": null,
   "metadata": {},
   "outputs": [],
   "source": [
    "ratings_df.to_csv(\"ratings.csv\")\n",
    "print(ratings_df.head(5))"
   ]
  },
  {
   "cell_type": "code",
   "execution_count": null,
   "metadata": {},
   "outputs": [],
   "source": [
    "tags_df.to_csv(\"tags.csv\")\n",
    "print(tags_df.head(5))"
   ]
  },
  {
   "cell_type": "code",
   "execution_count": null,
   "metadata": {},
   "outputs": [],
   "source": [
    "links_df.to_csv(\"links.csv\")\n",
    "print(links_df.head(5))"
   ]
  },
  {
   "cell_type": "code",
   "execution_count": 8,
   "metadata": {},
   "outputs": [],
   "source": [
    "# Plotting the Movie Data\n",
    "plt.figure(figsize=(8, 5))\n",
    "plt.barh(movies_df[\"title\"], movies_df[\"movie_id\"], color=\"coral\")\n",
    "plt.xlabel(\"Movie ID\")\n",
    "plt.ylabel(\"Title\")\n",
    "plt.title(\"Movie Data\")\n",
    "plt.show()"
   ]
  },
  {
   "cell_type": "code",
   "execution_count": null,
   "metadata": {},
   "outputs": [],
   "source": []
  },
  {
   "cell_type": "code",
   "execution_count": null,
   "metadata": {},
   "outputs": [],
   "source": []
  },
  {
   "cell_type": "code",
   "execution_count": null,
   "metadata": {},
   "outputs": [],
   "source": []
  },
  {
   "cell_type": "code",
   "execution_count": null,
   "metadata": {},
   "outputs": [],
   "source": []
  },
  {
   "cell_type": "code",
   "execution_count": null,
   "metadata": {},
   "outputs": [],
   "source": []
  },
  {
   "cell_type": "code",
   "execution_count": null,
   "metadata": {},
   "outputs": [],
   "source": []
  }
 ],
 "metadata": {
  "kernelspec": {
   "display_name": "venv",
   "language": "python",
   "name": "python3"
  },
  "language_info": {
   "codemirror_mode": {
    "name": "ipython",
    "version": 3
   },
   "file_extension": ".py",
   "mimetype": "text/x-python",
   "name": "python",
   "nbconvert_exporter": "python",
   "pygments_lexer": "ipython3",
   "version": "3.11.10"
  }
 },
 "nbformat": 4,
 "nbformat_minor": 2
}
