{
 "cells": [
  {
   "cell_type": "code",
   "execution_count": 1,
   "metadata": {},
   "outputs": [],
   "source": [
    "from sqlalchemy import create_engine\n",
    "import pandas as pd\n",
    "import matplotlib.pyplot as plt\n",
    "\n",
    "\n",
    "class DatabaseConnection:\n",
    "    def __init__(self, dbname, user, host, password, port):\n",
    "        self.dbname = dbname\n",
    "        self.user = user\n",
    "        self.host = host\n",
    "        self.password = password\n",
    "        self.port = port\n",
    "        self.engine = None\n",
    "\n",
    "    def connect(self):\n",
    "        # Create the connection URL for SQLAlchemy\n",
    "        url = f\"postgresql://{self.user}:{self.password}@{self.host}:{self.port}/{self.dbname}\"\n",
    "        self.engine = create_engine(url)\n",
    "        return self.engine\n",
    "\n",
    "    def query_to_dataframe(self, query):\n",
    "        # Ensure connection is established\n",
    "        if self.engine is None:\n",
    "            self.connect()\n",
    "\n",
    "        # Execute the query and return results as a DataFrame\n",
    "        return pd.read_sql(query, self.engine)"
   ]
  },
  {
   "cell_type": "code",
   "execution_count": 2,
   "metadata": {},
   "outputs": [],
   "source": [
    "if __name__ == \"__main__\":\n",
    "    # Initialize connection\n",
    "    db_conn = DatabaseConnection(\n",
    "        dbname=\"devdb\",\n",
    "        user=\"timeless\",\n",
    "        host=\"localhost\",\n",
    "        password=\"password\",\n",
    "        port=\"5432\",\n",
    "    )\n",
    "\n",
    "    # Connect to the database\n",
    "    engine = db_conn.connect()\n",
    "\n",
    "# Load Movies Data\n",
    "query = \"SELECT movie_id, title, genres FROM core_movie;\"\n",
    "movies_df = db_conn.query_to_dataframe(query)\n",
    "\n",
    "# Load Ratings Data\n",
    "query = \"SELECT user_id, movie_id, rating FROM core_ratings;\"\n",
    "ratings_df = db_conn.query_to_dataframe(query)\n",
    "\n",
    "# Load Tags Data\n",
    "query = \"SELECT user_id, movie_id, tag FROM core_tags;\"\n",
    "tags_df = db_conn.query_to_dataframe(query)\n",
    "\n",
    "# Load Links Data\n",
    "query = \"SELECT movie_id, imdb_id, tmdb_id FROM core_links;\"\n",
    "links_df = db_conn.query_to_dataframe(query)"
   ]
  },
  {
   "cell_type": "code",
   "execution_count": 5,
   "metadata": {},
   "outputs": [
    {
     "name": "stdout",
     "output_type": "stream",
     "text": [
      "   movie_id                               title                 genres\n",
      "0         5  Father of the Bride Part II (1995)                 Comedy\n",
      "1         8                 Tom and Huck (1995)     Adventure|Children\n",
      "2         9                 Sudden Death (1995)                 Action\n",
      "3        12  Dracula: Dead and Loving It (1995)          Comedy|Horror\n",
      "4        14                        Nixon (1995)                  Drama\n",
      "5        16                       Casino (1995)            Crime|Drama\n",
      "6        18                   Four Rooms (1995)                 Comedy\n",
      "7        21                   Get Shorty (1995)  Comedy|Crime|Thriller\n",
      "8        23                    Assassins (1995)  Action|Crime|Thriller\n",
      "9        24                       Powder (1995)           Drama|Sci-Fi\n"
     ]
    }
   ],
   "source": [
    "# movies_df.to_csv(\"movies.csv\")\n",
    "print(movies_df.head(10))"
   ]
  },
  {
   "cell_type": "code",
   "execution_count": 6,
   "metadata": {},
   "outputs": [
    {
     "name": "stdout",
     "output_type": "stream",
     "text": [
      "   user_id  movie_id  rating\n",
      "0        2        31     5.0\n",
      "1        2        34     5.0\n",
      "2        2        39     5.0\n",
      "3        2        48     5.0\n",
      "4        2       153     3.0\n",
      "5        2       185     5.0\n",
      "6        2       186     5.0\n",
      "7        2       193     3.0\n",
      "8        2       207     5.0\n",
      "9        2       216     4.0\n"
     ]
    }
   ],
   "source": [
    "# ratings_df.to_csv(\"ratings.csv\")\n",
    "print(ratings_df.head(10))"
   ]
  },
  {
   "cell_type": "code",
   "execution_count": 7,
   "metadata": {},
   "outputs": [
    {
     "name": "stdout",
     "output_type": "stream",
     "text": [
      "   user_id  movie_id                       tag\n",
      "0       22     26479               Kevin Kline\n",
      "1       22     79592                  misogyny\n",
      "2       22    247150                acrophobia\n",
      "3       34      2174                     music\n",
      "4       34      8623              Steve Martin\n",
      "5       55      5766  the killls and the score\n",
      "6       58      7451                  bullying\n",
      "7       58     49272                 '60s feel\n",
      "8       58     61132             fake trailers\n",
      "9       58     63113                       007\n"
     ]
    }
   ],
   "source": [
    "# tags_df.to_csv(\"tags.csv\")\n",
    "print(tags_df.head(10))"
   ]
  },
  {
   "cell_type": "code",
   "execution_count": 8,
   "metadata": {},
   "outputs": [
    {
     "name": "stdout",
     "output_type": "stream",
     "text": [
      "   movie_id  imdb_id  tmdb_id\n",
      "0         1   114709    862.0\n",
      "1         2   113497   8844.0\n",
      "2         3   113228  15602.0\n",
      "3         4   114885  31357.0\n",
      "4         5   113041  11862.0\n",
      "5         6   113277    949.0\n",
      "6         7   114319  11860.0\n",
      "7         8   112302  45325.0\n",
      "8         9   114576   9091.0\n",
      "9        10   113189    710.0\n"
     ]
    }
   ],
   "source": [
    "# links_df.to_csv(\"links.csv\")\n",
    "print(links_df.head(10))"
   ]
  },
  {
   "cell_type": "code",
   "execution_count": null,
   "metadata": {},
   "outputs": [],
   "source": []
  }
 ],
 "metadata": {
  "kernelspec": {
   "display_name": "venv",
   "language": "python",
   "name": "python3"
  },
  "language_info": {
   "codemirror_mode": {
    "name": "ipython",
    "version": 3
   },
   "file_extension": ".py",
   "mimetype": "text/x-python",
   "name": "python",
   "nbconvert_exporter": "python",
   "pygments_lexer": "ipython3",
   "version": "3.11.10"
  }
 },
 "nbformat": 4,
 "nbformat_minor": 2
}
