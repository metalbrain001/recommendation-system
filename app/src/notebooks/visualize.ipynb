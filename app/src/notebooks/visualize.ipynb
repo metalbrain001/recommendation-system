{
 "cells": [
  {
   "cell_type": "code",
   "execution_count": 2,
   "metadata": {},
   "outputs": [],
   "source": [
    "from prettytable import PrettyTable\n",
    "\n",
    "\n",
    "def format_recommendations(recommendations, title):\n",
    "    table = PrettyTable()\n",
    "    table.field_names = [\"#\", \"Recommendations\"]\n",
    "    for i, rec in enumerate(recommendations, start=1):\n",
    "        table.add_row([i, rec])\n",
    "    print(f\"{title}\\n{table}\\n\")"
   ]
  }
 ],
 "metadata": {
  "kernelspec": {
   "display_name": "venv",
   "language": "python",
   "name": "python3"
  },
  "language_info": {
   "codemirror_mode": {
    "name": "ipython",
    "version": 3
   },
   "file_extension": ".py",
   "mimetype": "text/x-python",
   "name": "python",
   "nbconvert_exporter": "python",
   "pygments_lexer": "ipython3",
   "version": "3.11.10"
  }
 },
 "nbformat": 4,
 "nbformat_minor": 2
}
